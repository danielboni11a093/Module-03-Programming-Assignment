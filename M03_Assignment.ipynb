{
 "cells": [
  {
   "cell_type": "code",
   "execution_count": 1,
   "id": "5f479e90-f0a8-4ac5-9054-1efe90584c3e",
   "metadata": {},
   "outputs": [],
   "source": [
    "things = [\"mozzarella\", \"cinderella\", \"salmonella\"]"
   ]
  },
  {
   "cell_type": "code",
   "execution_count": 2,
   "id": "e3a7d14e-0a18-4138-9294-aba590d091c8",
   "metadata": {},
   "outputs": [
    {
     "name": "stdout",
     "output_type": "stream",
     "text": [
      "['mozzarella', 'Cinderella', 'salmonella']\n"
     ]
    }
   ],
   "source": [
    "things = [\"mozzarella\", \"Cinderella\", \"salmonella\"]\n",
    "print(things)\n",
    "#Yes it did change the person element"
   ]
  },
  {
   "cell_type": "code",
   "execution_count": 3,
   "id": "7fda5d7f-83dd-46e3-a374-7f2bb729dcce",
   "metadata": {},
   "outputs": [
    {
     "name": "stdout",
     "output_type": "stream",
     "text": [
      "['MOZZARELLA', 'Cinderella', 'salmonella']\n"
     ]
    }
   ],
   "source": [
    "things = [\"MOZZARELLA\", \"Cinderella\", \"salmonella\"]\n",
    "print(things)\n",
    "#Yes it did change the cheese element"
   ]
  },
  {
   "cell_type": "code",
   "execution_count": 4,
   "id": "4847a3e6-877b-424c-b3d2-c1e25d607c61",
   "metadata": {},
   "outputs": [
    {
     "name": "stdout",
     "output_type": "stream",
     "text": [
      "['mozzarella', 'Cinderella', 'collect your Nobel Prize']\n"
     ]
    }
   ],
   "source": [
    "things = [\"mozzarella\", \"Cinderella\", \"collect your Nobel Prize\"]\n",
    "print(things)\n"
   ]
  },
  {
   "cell_type": "code",
   "execution_count": null,
   "id": "cb178c22-5420-40e4-a231-014085a1a546",
   "metadata": {},
   "outputs": [],
   "source": []
  },
  {
   "cell_type": "code",
   "execution_count": 5,
   "id": "0374fe22-bbd0-4bf2-86a2-2087fba1cb48",
   "metadata": {},
   "outputs": [
    {
     "name": "stdout",
     "output_type": "stream",
     "text": [
      "5\n"
     ]
    }
   ],
   "source": [
    "def get_odds():\n",
    "    for x in range(10):\n",
    "        if x % 2 != 0:\n",
    "            yield x\n",
    "odds = get_odds()\n",
    "\n",
    "for h in range(3):\n",
    "    third = next(odds)\n",
    "print(third)"
   ]
  }
 ],
 "metadata": {
  "kernelspec": {
   "display_name": "Python 3 (ipykernel)",
   "language": "python",
   "name": "python3"
  },
  "language_info": {
   "codemirror_mode": {
    "name": "ipython",
    "version": 3
   },
   "file_extension": ".py",
   "mimetype": "text/x-python",
   "name": "python",
   "nbconvert_exporter": "python",
   "pygments_lexer": "ipython3",
   "version": "3.12.1"
  }
 },
 "nbformat": 4,
 "nbformat_minor": 5
}
